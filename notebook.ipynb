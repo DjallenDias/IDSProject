{
 "cells": [
  {
   "cell_type": "code",
   "execution_count": 29,
   "id": "7ca8e7bc-bc53-4d10-acfa-d58094347584",
   "metadata": {},
   "outputs": [],
   "source": [
    "import pandas as pd\n",
    "import numpy as np\n",
    "import matplotlib.pyplot as plt\n",
    "import statistics"
   ]
  },
  {
   "cell_type": "code",
   "execution_count": 57,
   "id": "b885dc5d-a341-4e18-b800-47e909b40ac9",
   "metadata": {},
   "outputs": [],
   "source": [
    "petr3_df = pd.read_csv(\"PETR3.csv\")    \n"
   ]
  },
  {
   "cell_type": "code",
   "execution_count": 58,
   "id": "8a5517dd-3cb2-419e-8367-c15f0f6d6fab",
   "metadata": {},
   "outputs": [
    {
     "data": {
      "text/html": [
       "<div>\n",
       "<style scoped>\n",
       "    .dataframe tbody tr th:only-of-type {\n",
       "        vertical-align: middle;\n",
       "    }\n",
       "\n",
       "    .dataframe tbody tr th {\n",
       "        vertical-align: top;\n",
       "    }\n",
       "\n",
       "    .dataframe thead th {\n",
       "        text-align: right;\n",
       "    }\n",
       "</style>\n",
       "<table border=\"1\" class=\"dataframe\">\n",
       "  <thead>\n",
       "    <tr style=\"text-align: right;\">\n",
       "      <th></th>\n",
       "      <th>Data</th>\n",
       "      <th>Último</th>\n",
       "      <th>Abertura</th>\n",
       "      <th>Máxima</th>\n",
       "      <th>Mínima</th>\n",
       "      <th>Vol.</th>\n",
       "      <th>Var(%)</th>\n",
       "    </tr>\n",
       "  </thead>\n",
       "  <tbody>\n",
       "    <tr>\n",
       "      <th>0</th>\n",
       "      <td>01.March.2024</td>\n",
       "      <td>37.36</td>\n",
       "      <td>41.38</td>\n",
       "      <td>41.86</td>\n",
       "      <td>35.50</td>\n",
       "      <td>13.95M</td>\n",
       "      <td>-9.36</td>\n",
       "    </tr>\n",
       "    <tr>\n",
       "      <th>1</th>\n",
       "      <td>01.February.2024</td>\n",
       "      <td>41.22</td>\n",
       "      <td>42.60</td>\n",
       "      <td>44.50</td>\n",
       "      <td>40.74</td>\n",
       "      <td>216.23M</td>\n",
       "      <td>-2.23</td>\n",
       "    </tr>\n",
       "    <tr>\n",
       "      <th>2</th>\n",
       "      <td>01.January.2024</td>\n",
       "      <td>42.16</td>\n",
       "      <td>39.00</td>\n",
       "      <td>42.93</td>\n",
       "      <td>38.59</td>\n",
       "      <td>204.82M</td>\n",
       "      <td>8.16</td>\n",
       "    </tr>\n",
       "    <tr>\n",
       "      <th>3</th>\n",
       "      <td>01.December.2023</td>\n",
       "      <td>38.98</td>\n",
       "      <td>37.60</td>\n",
       "      <td>39.33</td>\n",
       "      <td>35.06</td>\n",
       "      <td>178.38M</td>\n",
       "      <td>3.40</td>\n",
       "    </tr>\n",
       "    <tr>\n",
       "      <th>4</th>\n",
       "      <td>01.November.2023</td>\n",
       "      <td>37.70</td>\n",
       "      <td>36.68</td>\n",
       "      <td>38.51</td>\n",
       "      <td>35.22</td>\n",
       "      <td>239.96M</td>\n",
       "      <td>-0.37</td>\n",
       "    </tr>\n",
       "    <tr>\n",
       "      <th>...</th>\n",
       "      <td>...</td>\n",
       "      <td>...</td>\n",
       "      <td>...</td>\n",
       "      <td>...</td>\n",
       "      <td>...</td>\n",
       "      <td>...</td>\n",
       "      <td>...</td>\n",
       "    </tr>\n",
       "    <tr>\n",
       "      <th>79</th>\n",
       "      <td>01.August.2017</td>\n",
       "      <td>5.78</td>\n",
       "      <td>5.68</td>\n",
       "      <td>6.06</td>\n",
       "      <td>5.53</td>\n",
       "      <td>180.60M</td>\n",
       "      <td>1.23</td>\n",
       "    </tr>\n",
       "    <tr>\n",
       "      <th>80</th>\n",
       "      <td>01.July.2017</td>\n",
       "      <td>5.71</td>\n",
       "      <td>5.48</td>\n",
       "      <td>5.77</td>\n",
       "      <td>5.16</td>\n",
       "      <td>123.75M</td>\n",
       "      <td>4.55</td>\n",
       "    </tr>\n",
       "    <tr>\n",
       "      <th>81</th>\n",
       "      <td>01.June.2017</td>\n",
       "      <td>5.46</td>\n",
       "      <td>5.72</td>\n",
       "      <td>5.86</td>\n",
       "      <td>5.24</td>\n",
       "      <td>179.96M</td>\n",
       "      <td>-3.08</td>\n",
       "    </tr>\n",
       "    <tr>\n",
       "      <th>82</th>\n",
       "      <td>01.May.2017</td>\n",
       "      <td>5.64</td>\n",
       "      <td>5.96</td>\n",
       "      <td>6.77</td>\n",
       "      <td>5.34</td>\n",
       "      <td>251.19M</td>\n",
       "      <td>-5.15</td>\n",
       "    </tr>\n",
       "    <tr>\n",
       "      <th>83</th>\n",
       "      <td>01.April.2017</td>\n",
       "      <td>5.94</td>\n",
       "      <td>6.27</td>\n",
       "      <td>6.52</td>\n",
       "      <td>5.77</td>\n",
       "      <td>133.92M</td>\n",
       "      <td>-5.21</td>\n",
       "    </tr>\n",
       "  </tbody>\n",
       "</table>\n",
       "<p>84 rows × 7 columns</p>\n",
       "</div>"
      ],
      "text/plain": [
       "                Data  Último  Abertura  Máxima  Mínima     Vol.  Var(%)\n",
       "0      01.March.2024   37.36     41.38   41.86   35.50   13.95M   -9.36\n",
       "1   01.February.2024   41.22     42.60   44.50   40.74  216.23M   -2.23\n",
       "2    01.January.2024   42.16     39.00   42.93   38.59  204.82M    8.16\n",
       "3   01.December.2023   38.98     37.60   39.33   35.06  178.38M    3.40\n",
       "4   01.November.2023   37.70     36.68   38.51   35.22  239.96M   -0.37\n",
       "..               ...     ...       ...     ...     ...      ...     ...\n",
       "79    01.August.2017    5.78      5.68    6.06    5.53  180.60M    1.23\n",
       "80      01.July.2017    5.71      5.48    5.77    5.16  123.75M    4.55\n",
       "81      01.June.2017    5.46      5.72    5.86    5.24  179.96M   -3.08\n",
       "82       01.May.2017    5.64      5.96    6.77    5.34  251.19M   -5.15\n",
       "83     01.April.2017    5.94      6.27    6.52    5.77  133.92M   -5.21\n",
       "\n",
       "[84 rows x 7 columns]"
      ]
     },
     "execution_count": 58,
     "metadata": {},
     "output_type": "execute_result"
    }
   ],
   "source": [
    "pd.DataFrame(petr3_df)"
   ]
  },
  {
   "cell_type": "code",
   "execution_count": 53,
   "id": "d9ff2cd8-4b60-4a20-bf26-35c83d7576e5",
   "metadata": {},
   "outputs": [
    {
     "name": "stdout",
     "output_type": "stream",
     "text": [
      "Média = 17.379285714285714\n",
      "Mediana = 13.48\n",
      "Máximo = 44.5\n",
      "Mínima = 5.77\n",
      "Variância = 104.52983080895008\n",
      "Desvio Padrão = 10.223983118577127\n"
     ]
    }
   ],
   "source": [
    "print(f\"Média = {petr3_df['Máxima'].mean()}\")\n",
    "print(f\"Mediana = {petr3_df['Máxima'].median()}\")\n",
    "print(f\"Máximo = {petr3_df['Máxima'].max()}\")\n",
    "print(f\"Mínima = {petr3_df['Máxima'].min()}\")\n",
    "print(f\"Variância = {petr3_df['Máxima'].var()}\") \n",
    "print(f\"Desvio Padrão = {petr3_df['Máxima'].std()}\") "
   ]
  },
  {
   "cell_type": "code",
   "execution_count": 54,
   "id": "3228bc6a-9bdb-41b0-87b7-545b4a014dc3",
   "metadata": {},
   "outputs": [
    {
     "name": "stdout",
     "output_type": "stream",
     "text": [
      "Média = 14.68797619047619\n",
      "Mediana = 11.67\n",
      "Máximo = 40.74\n",
      "Mínima = 4.46\n",
      "Variância = 80.64133681870338\n",
      "Desvio Padrão = 8.980052161246247\n"
     ]
    }
   ],
   "source": [
    "print(f\"Média = {petr3_df['Mínima'].mean()}\")\n",
    "print(f\"Mediana = {petr3_df['Mínima'].median()}\")\n",
    "print(f\"Máximo = {petr3_df['Mínima'].max()}\")\n",
    "print(f\"Mínima = {petr3_df['Mínima'].min()}\")\n",
    "print(f\"Variância = {petr3_df['Mínima'].var()}\") \n",
    "print(f\"Desvio Padrão = {petr3_df['Mínima'].std()}\") "
   ]
  },
  {
   "cell_type": "code",
   "execution_count": 6,
   "id": "3fc11948-5b2b-45b2-91f1-0d2966306acc",
   "metadata": {},
   "outputs": [
    {
     "data": {
      "image/png": "[encoded data removed]",
      "text/plain": [
       "<Figure size 640x480 with 1 Axes>"
      ]
     },
     "metadata": {},
     "output_type": "display_data"
    }
   ],
   "source": [
    "dispersao = petr3_df.plot.scatter(x='Máxima', y='Mínima')"
   ]
  },
  {
   "cell_type": "code",
   "execution_count": 7,
   "id": "1c77e881-0064-4a40-b477-d3695b2197b0",
   "metadata": {},
   "outputs": [
    {
     "data": {
      "image/png": "[encoded data removed]",
      "text/plain": [
       "<Figure size 640x480 with 1 Axes>"
      ]
     },
     "metadata": {},
     "output_type": "display_data"
    }
   ],
   "source": [
    "dispersao = petr3_df.plot.scatter(x='Vol.', y='Máxima')"
   ]
  },
  {
   "cell_type": "code",
   "execution_count": 64,
   "id": "861ab7fc-7712-43ee-9078-74f86c86272e",
   "metadata": {},
   "outputs": [
    {
     "data": {
      "image/png": "[encoded data removed]",
      "text/plain": [
       "<Figure size 640x480 with 1 Axes>"
      ]
     },
     "metadata": {},
     "output_type": "display_data"
    }
   ],
   "source": [
    "dispersao = petr3_df.plot.scatter(x='Máxima', y='Var(%)')"
   ]
  },
  {
   "cell_type": "code",
   "execution_count": 61,
   "id": "2684541d-1a26-45d7-ad02-c380118e5ba2",
   "metadata": {},
   "outputs": [
    {
     "data": {
      "text/html": [
       "<div>\n",
       "<style scoped>\n",
       "    .dataframe tbody tr th:only-of-type {\n",
       "        vertical-align: middle;\n",
       "    }\n",
       "\n",
       "    .dataframe tbody tr th {\n",
       "        vertical-align: top;\n",
       "    }\n",
       "\n",
       "    .dataframe thead th {\n",
       "        text-align: right;\n",
       "    }\n",
       "</style>\n",
       "<table border=\"1\" class=\"dataframe\">\n",
       "  <thead>\n",
       "    <tr style=\"text-align: right;\">\n",
       "      <th></th>\n",
       "      <th>Data</th>\n",
       "      <th>Var(%)</th>\n",
       "    </tr>\n",
       "  </thead>\n",
       "  <tbody>\n",
       "    <tr>\n",
       "      <th>48</th>\n",
       "      <td>01.March.2020</td>\n",
       "      <td>-47.92</td>\n",
       "    </tr>\n",
       "    <tr>\n",
       "      <th>37</th>\n",
       "      <td>01.February.2021</td>\n",
       "      <td>-18.95</td>\n",
       "    </tr>\n",
       "    <tr>\n",
       "      <th>69</th>\n",
       "      <td>01.June.2018</td>\n",
       "      <td>-12.48</td>\n",
       "    </tr>\n",
       "    <tr>\n",
       "      <th>42</th>\n",
       "      <td>01.September.2020</td>\n",
       "      <td>-11.42</td>\n",
       "    </tr>\n",
       "    <tr>\n",
       "      <th>18</th>\n",
       "      <td>01.September.2022</td>\n",
       "      <td>-11.00</td>\n",
       "    </tr>\n",
       "    <tr>\n",
       "      <th>...</th>\n",
       "      <td>...</td>\n",
       "      <td>...</td>\n",
       "    </tr>\n",
       "    <tr>\n",
       "      <th>19</th>\n",
       "      <td>01.August.2022</td>\n",
       "      <td>21.58</td>\n",
       "    </tr>\n",
       "    <tr>\n",
       "      <th>65</th>\n",
       "      <td>01.October.2018</td>\n",
       "      <td>25.13</td>\n",
       "    </tr>\n",
       "    <tr>\n",
       "      <th>74</th>\n",
       "      <td>01.January.2018</td>\n",
       "      <td>25.96</td>\n",
       "    </tr>\n",
       "    <tr>\n",
       "      <th>47</th>\n",
       "      <td>01.April.2020</td>\n",
       "      <td>31.90</td>\n",
       "    </tr>\n",
       "    <tr>\n",
       "      <th>40</th>\n",
       "      <td>01.November.2020</td>\n",
       "      <td>34.47</td>\n",
       "    </tr>\n",
       "  </tbody>\n",
       "</table>\n",
       "<p>84 rows × 2 columns</p>\n",
       "</div>"
      ],
      "text/plain": [
       "                 Data  Var(%)\n",
       "48      01.March.2020  -47.92\n",
       "37   01.February.2021  -18.95\n",
       "69       01.June.2018  -12.48\n",
       "42  01.September.2020  -11.42\n",
       "18  01.September.2022  -11.00\n",
       "..                ...     ...\n",
       "19     01.August.2022   21.58\n",
       "65    01.October.2018   25.13\n",
       "74    01.January.2018   25.96\n",
       "47      01.April.2020   31.90\n",
       "40   01.November.2020   34.47\n",
       "\n",
       "[84 rows x 2 columns]"
      ]
     },
     "execution_count": 61,
     "metadata": {},
     "output_type": "execute_result"
    }
   ],
   "source": [
    "petr3_df.sort_values(by=\"Var(%)\", ascending=True)[[\"Data\", \"Var(%)\"]] "
   ]
  },
  {
   "cell_type": "code",
   "execution_count": 67,
   "id": "7916aec7-2756-409d-aa65-1be1fc742ec4",
   "metadata": {},
   "outputs": [
    {
     "data": {
      "text/html": [
       "<div>\n",
       "<style scoped>\n",
       "    .dataframe tbody tr th:only-of-type {\n",
       "        vertical-align: middle;\n",
       "    }\n",
       "\n",
       "    .dataframe tbody tr th {\n",
       "        vertical-align: top;\n",
       "    }\n",
       "\n",
       "    .dataframe thead th {\n",
       "        text-align: right;\n",
       "    }\n",
       "</style>\n",
       "<table border=\"1\" class=\"dataframe\">\n",
       "  <thead>\n",
       "    <tr style=\"text-align: right;\">\n",
       "      <th></th>\n",
       "      <th>Data</th>\n",
       "      <th>Máxima</th>\n",
       "    </tr>\n",
       "  </thead>\n",
       "  <tbody>\n",
       "    <tr>\n",
       "      <th>48</th>\n",
       "      <td>01.March.2020</td>\n",
       "      <td>12.26</td>\n",
       "    </tr>\n",
       "    <tr>\n",
       "      <th>37</th>\n",
       "      <td>01.February.2021</td>\n",
       "      <td>13.28</td>\n",
       "    </tr>\n",
       "    <tr>\n",
       "      <th>69</th>\n",
       "      <td>01.June.2018</td>\n",
       "      <td>9.48</td>\n",
       "    </tr>\n",
       "    <tr>\n",
       "      <th>42</th>\n",
       "      <td>01.September.2020</td>\n",
       "      <td>10.17</td>\n",
       "    </tr>\n",
       "    <tr>\n",
       "      <th>18</th>\n",
       "      <td>01.September.2022</td>\n",
       "      <td>29.43</td>\n",
       "    </tr>\n",
       "    <tr>\n",
       "      <th>...</th>\n",
       "      <td>...</td>\n",
       "      <td>...</td>\n",
       "    </tr>\n",
       "    <tr>\n",
       "      <th>19</th>\n",
       "      <td>01.August.2022</td>\n",
       "      <td>29.47</td>\n",
       "    </tr>\n",
       "    <tr>\n",
       "      <th>65</th>\n",
       "      <td>01.October.2018</td>\n",
       "      <td>12.99</td>\n",
       "    </tr>\n",
       "    <tr>\n",
       "      <th>74</th>\n",
       "      <td>01.January.2018</td>\n",
       "      <td>9.08</td>\n",
       "    </tr>\n",
       "    <tr>\n",
       "      <th>47</th>\n",
       "      <td>01.April.2020</td>\n",
       "      <td>8.20</td>\n",
       "    </tr>\n",
       "    <tr>\n",
       "      <th>40</th>\n",
       "      <td>01.November.2020</td>\n",
       "      <td>11.64</td>\n",
       "    </tr>\n",
       "  </tbody>\n",
       "</table>\n",
       "<p>84 rows × 2 columns</p>\n",
       "</div>"
      ],
      "text/plain": [
       "                 Data  Máxima\n",
       "48      01.March.2020   12.26\n",
       "37   01.February.2021   13.28\n",
       "69       01.June.2018    9.48\n",
       "42  01.September.2020   10.17\n",
       "18  01.September.2022   29.43\n",
       "..                ...     ...\n",
       "19     01.August.2022   29.47\n",
       "65    01.October.2018   12.99\n",
       "74    01.January.2018    9.08\n",
       "47      01.April.2020    8.20\n",
       "40   01.November.2020   11.64\n",
       "\n",
       "[84 rows x 2 columns]"
      ]
     },
     "execution_count": 67,
     "metadata": {},
     "output_type": "execute_result"
    }
   ],
   "source": [
    "petr3_df.sort_values(by=\"Var(%)\", ascending=True)[[\"Data\", \"Máxima\"]]"
   ]
  },
  {
   "cell_type": "code",
   "execution_count": 23,
   "id": "a5a9f5a6-9d49-4c76-aa9d-56d475f17a2c",
   "metadata": {},
   "outputs": [
    {
     "data": {
      "image/png": "[encoded data removed]",
      "text/plain": [
       "<Figure size 1200x600 with 1 Axes>"
      ]
     },
     "metadata": {},
     "output_type": "display_data"
    }
   ],
   "source": [
    "ax = petr3_df.boxplot(column = \"Máxima\", figsize = (12,6))"
   ]
  },
  {
   "cell_type": "code",
   "execution_count": 62,
   "id": "400dbc80-5a7e-4ee2-9dea-741d1c970b29",
   "metadata": {},
   "outputs": [
    {
     "data": {
      "image/png": "[encoded data removed]",
      "text/plain": [
       "<Figure size 1200x600 with 1 Axes>"
      ]
     },
     "metadata": {},
     "output_type": "display_data"
    }
   ],
   "source": [
    "ax = petr3_df.boxplot(column = \"Var(%)\", figsize = (12,6))"
   ]
  },
  {
   "cell_type": "code",
   "execution_count": null,
   "id": "e5d725d2-d68c-43e3-9c31-eb06a788d141",
   "metadata": {},
   "outputs": [],
   "source": []
  }
 ],
 "metadata": {
  "kernelspec": {
   "display_name": "Python 3 (ipykernel)",
   "language": "python",
   "name": "python3"
  },
  "language_info": {
   "codemirror_mode": {
    "name": "ipython",
    "version": 3
   },
   "file_extension": ".py",
   "mimetype": "text/x-python",
   "name": "python",
   "nbconvert_exporter": "python",
   "pygments_lexer": "ipython3",
   "version": "3.12.0"
  }
 },
 "nbformat": 4,
 "nbformat_minor": 5
}
